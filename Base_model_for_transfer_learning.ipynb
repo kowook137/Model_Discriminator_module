{
  "nbformat": 4,
  "nbformat_minor": 0,
  "metadata": {
    "colab": {
      "provenance": [],
      "gpuType": "T4",
      "include_colab_link": true
    },
    "kernelspec": {
      "name": "python3",
      "display_name": "Python 3"
    },
    "language_info": {
      "name": "python"
    },
    "accelerator": "GPU"
  },
  "cells": [
    {
      "cell_type": "markdown",
      "metadata": {
        "id": "view-in-github",
        "colab_type": "text"
      },
      "source": [
        "<a href=\"https://colab.research.google.com/github/kowook137/Model_Discriminator_module/blob/main/Base_model_for_transfer_learning.ipynb\" target=\"_parent\"><img src=\"https://colab.research.google.com/assets/colab-badge.svg\" alt=\"Open In Colab\"/></a>"
      ]
    },
    {
      "cell_type": "code",
      "source": [
        "#딥러닝 분류기 모델/ 딥러닝 검증 모듈 구현 코드\n",
        "#전이학습을 위한 base 코드 작성"
      ],
      "metadata": {
        "id": "F942OOczHror"
      },
      "execution_count": null,
      "outputs": []
    },
    {
      "cell_type": "code",
      "source": [
        "import torch\n",
        "import torch.nn as nn\n",
        "import torch.optim as optim\n",
        "import torchvision\n",
        "import torchvision.transforms as transforms"
      ],
      "metadata": {
        "id": "ybLZJli_H4bH"
      },
      "execution_count": 10,
      "outputs": []
    },
    {
      "cell_type": "code",
      "source": [
        "#데이터셋 로드\n",
        "transform = transforms.Compose([transforms.ToTensor(), transforms.Normalize((0.5,), (0.5,))])\n",
        "trainset = torchvision.datasets.CIFAR100(root='./data', train=True, download=True, transform=transform)\n",
        "trainloader = torch.utils.data.DataLoader(trainset, batch_size=64, shuffle=True, num_workers=2)\n",
        "testset = torchvision.datasets.CIFAR100(root='./data', train=False,download=True, transform=transform)\n",
        "testloader = torch.utils.data.DataLoader(testset, batch_size=64, shuffle=False, num_workers=2)"
      ],
      "metadata": {
        "id": "7oGLgCOuUH5k"
      },
      "execution_count": 11,
      "outputs": []
    },
    {
      "cell_type": "code",
      "source": [
        "#Base model 정의(구조: Conv2D -> ReLU -> MaxPool -> FC -> Softmax)\n",
        "class BaseModel(nn.Module):\n",
        "    def __init__(self):\n",
        "        super(BaseModel, self).__init__()\n",
        "        self.conv1 = nn.Conv2d(3, 32, kernel_size=3, padding=1)\n",
        "        self.pool = nn.MaxPool2d(2, 2)\n",
        "        self.conv2 = nn.Conv2d(32, 64, kernel_size=3, padding=1)\n",
        "        self.fc1 = nn.Linear(64 * 8 * 8, 256)\n",
        "        self.fc2 = nn.Linear(256, 100)\n",
        "\n",
        "    def forward(self, x):\n",
        "        x = self.pool(torch.relu(self.conv1(x)))\n",
        "        x = self.pool(torch.relu(self.conv2(x)))\n",
        "        x = x.view(-1, 64 * 8 * 8)\n",
        "        x = torch.relu(self.fc1(x))\n",
        "        return self.fc2(x)"
      ],
      "metadata": {
        "id": "lIdFmzQ7XfE3"
      },
      "execution_count": 12,
      "outputs": []
    },
    {
      "cell_type": "code",
      "source": [
        "#학습 환경 설정\n",
        "device = torch.device('cuda' if torch.cuda.is_available() else 'cpu')\n",
        "base_model = BaseModel().to(device)\n",
        "criterion = nn.CrossEntropyLoss()\n",
        "optimizer = optim.Adam(base_model.parameters(), lr=0.001)"
      ],
      "metadata": {
        "id": "lrg6vuS4YUPy"
      },
      "execution_count": 13,
      "outputs": []
    },
    {
      "cell_type": "code",
      "source": [
        "num_epochs = 10\n",
        "for epoch in range(num_epochs):\n",
        "    running_loss = 0.0\n",
        "    for inputs, labels in trainloader:\n",
        "        inputs, labels = inputs.to(device), labels.to(device)\n",
        "\n",
        "        optimizer.zero_grad()\n",
        "        outputs = base_model(inputs)\n",
        "        loss = criterion(outputs, labels)\n",
        "        loss.backward()\n",
        "        optimizer.step()\n",
        "\n",
        "        running_loss += loss.item()\n",
        "    print(f\"[Epoch {epoch+1}] Loss: {running_loss:.3f}\")"
      ],
      "metadata": {
        "id": "K6wkp7g9YgQK",
        "colab": {
          "base_uri": "https://localhost:8080/"
        },
        "outputId": "6de0b50e-4004-44fd-cbbe-cda7e5b2f967"
      },
      "execution_count": 14,
      "outputs": [
        {
          "output_type": "stream",
          "name": "stdout",
          "text": [
            "[Epoch 1] Loss: 2718.903\n",
            "[Epoch 2] Loss: 2117.742\n",
            "[Epoch 3] Loss: 1842.154\n",
            "[Epoch 4] Loss: 1633.727\n",
            "[Epoch 5] Loss: 1456.899\n",
            "[Epoch 6] Loss: 1288.302\n",
            "[Epoch 7] Loss: 1133.352\n",
            "[Epoch 8] Loss: 987.134\n",
            "[Epoch 9] Loss: 841.434\n",
            "[Epoch 10] Loss: 719.086\n"
          ]
        }
      ]
    },
    {
      "cell_type": "code",
      "source": [
        "torch.save(base_model.state_dict(), 'base_model.pth')\n",
        "print(\"base_model 저장 완료: base_model.pth\")"
      ],
      "metadata": {
        "id": "E1YA66C2ZHC4",
        "colab": {
          "base_uri": "https://localhost:8080/"
        },
        "outputId": "4fd4f958-e301-4d3b-ce21-b622de068632"
      },
      "execution_count": 15,
      "outputs": [
        {
          "output_type": "stream",
          "name": "stdout",
          "text": [
            "base_model 저장 완료: base_model.pth\n"
          ]
        }
      ]
    },
    {
      "cell_type": "code",
      "source": [
        "#Base model이 train data 에 대해서 틀린 예측을 한 데이터 Dt_mis_inputs, Dt_mis_labels 를 추출하는 코드\n",
        "\n",
        "\n",
        "\n",
        "\n",
        "\n",
        "\n",
        "\n"
      ],
      "metadata": {
        "id": "uiqYOnaVyqp_"
      },
      "execution_count": 16,
      "outputs": []
    },
    {
      "cell_type": "code",
      "source": [
        "#모델을 평가 모드로 설정함\n",
        "base_model.eval()"
      ],
      "metadata": {
        "colab": {
          "base_uri": "https://localhost:8080/"
        },
        "id": "n65MqnGJy1b-",
        "outputId": "b48d7786-06fc-48fa-e25f-967da4af096e"
      },
      "execution_count": 17,
      "outputs": [
        {
          "output_type": "execute_result",
          "data": {
            "text/plain": [
              "BaseModel(\n",
              "  (conv1): Conv2d(3, 32, kernel_size=(3, 3), stride=(1, 1), padding=(1, 1))\n",
              "  (pool): MaxPool2d(kernel_size=2, stride=2, padding=0, dilation=1, ceil_mode=False)\n",
              "  (conv2): Conv2d(32, 64, kernel_size=(3, 3), stride=(1, 1), padding=(1, 1))\n",
              "  (fc1): Linear(in_features=4096, out_features=256, bias=True)\n",
              "  (fc2): Linear(in_features=256, out_features=100, bias=True)\n",
              ")"
            ]
          },
          "metadata": {},
          "execution_count": 17
        }
      ]
    },
    {
      "cell_type": "code",
      "source": [
        "# 틀린 샘플 저장 리스트\n",
        "misclassified_inputs = []\n",
        "misclassified_labels = []\n",
        "\n",
        "# 정답 클래스 수 계산용\n",
        "total_samples = 0\n",
        "incorrect_samples = 0"
      ],
      "metadata": {
        "id": "YdO-G8Tczel6"
      },
      "execution_count": 18,
      "outputs": []
    },
    {
      "cell_type": "code",
      "source": [
        "#base_model 이 틀린 예측을 한 데이터를 추출함.\n",
        "with torch.no_grad():\n",
        "    for inputs, labels in trainloader:\n",
        "        inputs, labels = inputs.to(device), labels.to(device)\n",
        "\n",
        "        outputs = base_model(inputs)\n",
        "        _, predicted = torch.max(outputs, 1)\n",
        "\n",
        "        incorrect_mask = predicted != labels\n",
        "        if incorrect_mask.any():\n",
        "            misclassified_inputs.append(inputs[incorrect_mask])\n",
        "            misclassified_labels.append(labels[incorrect_mask])\n",
        "            incorrect_samples += incorrect_mask.sum().item()\n",
        "        total_samples += labels.size(0)\n",
        "\n",
        "\n",
        "# 단일 tensor 로 병합함\n",
        "Dt_mis_inputs = torch.cat(misclassified_inputs, dim=0)\n",
        "Dt_mis_labels = torch.cat(misclassified_labels, dim=0)\n",
        "\n",
        "#확인용 출력\n",
        "print(f\"총 훈련 샘플 수: {total_samples}\")\n",
        "print(f\"틀린 예측 수: {incorrect_samples}\")\n",
        "print(f\"Dt_mis shape: {Dt_mis_inputs.shape}, {Dt_mis_labels.shape}\")"
      ],
      "metadata": {
        "colab": {
          "base_uri": "https://localhost:8080/"
        },
        "id": "FhZmxtof3c5h",
        "outputId": "1307eeb6-cfb5-4bf9-8bb9-e62b8760e6ba"
      },
      "execution_count": 21,
      "outputs": [
        {
          "output_type": "stream",
          "name": "stdout",
          "text": [
            "총 훈련 샘플 수: 50000\n",
            "틀린 예측 수: 9184\n",
            "Dt_mis shape: torch.Size([9184, 3, 32, 32]), torch.Size([9184])\n"
          ]
        }
      ]
    },
    {
      "cell_type": "code",
      "source": [
        "# A 모델에서 틀린 샘플 저장함\n",
        "torch.save(Dt_mis_inputs, 'Dt_mis_inputs.pt')\n",
        "torch.save(Dt_mis_labels, 'Dt_mis_labels.pt')"
      ],
      "metadata": {
        "id": "K9eT3AzA-g-k"
      },
      "execution_count": 22,
      "outputs": []
    }
  ]
}